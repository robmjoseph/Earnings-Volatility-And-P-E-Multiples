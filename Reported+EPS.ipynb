{
 "cells": [
  {
   "cell_type": "markdown",
   "metadata": {},
   "source": [
    "# Reported Earnings Per Share Data Scraper\n",
    "The code below was used to obtain Earnings Per Share Data for a five year period, as was available on MarketWatch.com. \n",
    "The unique symbols of the companies from the 'SymbolsAndReportDates' file were used as inputs in a for loop to determine if there were available EPS data, and the available EPS data saved to an Excel file, 'ReportedEPS', having 2 columns, 'EPS', representing the EPS for available symbols, and 'YEAR', representing the years for which the EPS was available."
   ]
  },
  {
   "cell_type": "code",
   "execution_count": null,
   "metadata": {
    "collapsed": true
   },
   "outputs": [],
   "source": [
    "url_formatted = 'http://www.marketwatch.com/investing/stock/%s/financials'\n",
    "eqList = df.Equities.unique()\n",
    "eEPS = {}\n",
    "\n",
    "# Navigate to website for each unique ticker\n",
    "for ticker in eqList:\n",
    "    try:\n",
    "        res = requests.get(url_formatted % ticker)\n",
    "    except:\n",
    "        EPS = \"N/A\"\n",
    "        YEAR = \"N/A\"\n",
    "        continue\n",
    "    else:\n",
    "        res.raise_for_status()\n",
    "        epsSoup = bs4.BeautifulSoup(res.text,\"html5lib\")\n",
    "        \n",
    "        try:\n",
    "            #Find the closest link with id value and go to previous sibling for earnings data\n",
    "            EPS = epsSoup.find('tr', id=\"ratio_Eps1YrAnnualGrowth\").find_previous_sibling(\"tr\").find_all('td', class_=\"valueCell\")\n",
    "            YEAR = epsSoup.find(\"tr\", class_=\"topRow\").find_all('th',string=re.compile(\"\\d{4}\"))\n",
    "        except:\n",
    "            EPS = \"N/A\"\n",
    "            YEAR = \"N/A\"\n",
    "            continue\n",
    "            \n",
    "        # Extract 2012-2016 EPS data and save to list EarnList 4 times for each quarter's earnings\n",
    "        epsPerYear = {}\n",
    "        for yearEle, earnEle in zip(YEAR, EPS):\n",
    "            epsPerYear[yearEle.get_text()] = earnEle.get_text()\n",
    "        eEPS[ticker] = epsPerYear"
   ]
  }
 ],
 "metadata": {
  "kernelspec": {
   "display_name": "Python 3",
   "language": "python",
   "name": "python3"
  },
  "language_info": {
   "codemirror_mode": {
    "name": "ipython",
    "version": 3
   },
   "file_extension": ".py",
   "mimetype": "text/x-python",
   "name": "python",
   "nbconvert_exporter": "python",
   "pygments_lexer": "ipython3",
   "version": "3.6.1"
  }
 },
 "nbformat": 4,
 "nbformat_minor": 2
}
