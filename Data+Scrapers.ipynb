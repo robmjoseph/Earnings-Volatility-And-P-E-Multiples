{
 "cells": [
  {
   "cell_type": "code",
   "execution_count": null,
   "metadata": {
    "collapsed": true
   },
   "outputs": [],
   "source": [
    "import requests, bs4, re\n",
    "import pandas as pd\n",
    "from datetime import date, timedelta\n",
    "\n",
    "myDate = date(2012, 1, 3)\n",
    "today = date.today()\n",
    "plusOne = timedelta(days=1)\n",
    "datePattern = re.compile('\\d{4}\\-\\D{3}\\-\\d{2}')\n",
    "url_format = 'http://www.nasdaq.com/earnings/earnings-calendar.aspx?date=%s'\n",
    "dateList = []\n",
    "tickerList = []\n",
    "\n",
    "# Request Nasdaq.com Earnings Page for examination\n",
    "while today > myDate:\n",
    "    try:\n",
    "        res = requests.get(url_format % myDate.strftime(\"%Y-%b-%d\"))\n",
    "    except:\n",
    "        myDate += plusOne\n",
    "        continue\n",
    "    else:\n",
    "        if myDate.weekday() not in [5,6]:\n",
    "            res.raise_for_status()\n",
    "            NasSoup = bs4.BeautifulSoup(res.text,\"html5lib\")\n",
    "            \n",
    "            try:\n",
    "                #Save companies reporting earnings to a list\n",
    "                companies = NasSoup.find_all(href=re.compile(\"/earnings/report\"), id=True)\n",
    "            except:\n",
    "                myDate += plusOne\n",
    "                continue\n",
    "            \n",
    "            # Search pattern to discover ticker symbols\n",
    "            tickPattern = re.compile(r'\\([A-Z]+\\)')\n",
    "            # Extract Tickers\n",
    "            for ticker in companies:\n",
    "                try:\n",
    "                    tickerList.append(re.findall(tickPattern,str(ticker))[-1].strip('()'))\n",
    "                    dateList.append(myDate)\n",
    "                except IndexError:\n",
    "                    pass\n",
    "    finally:\n",
    "        myDate += plusOne\n",
    "\n",
    "data = {'Equities': tickerList, 'ReportDate': dateList}\n",
    "df = pd.DataFrame(data)"
   ]
  },
  {
   "cell_type": "code",
   "execution_count": null,
   "metadata": {
    "collapsed": true
   },
   "outputs": [],
   "source": [
    "url_formatted = 'http://www.marketwatch.com/investing/stock/%s/financials'\n",
    "eqList = df.Equities.unique()\n",
    "eEPS = {}\n",
    "\n",
    "# Navigate to website for each unique ticker\n",
    "for ticker in eqList:\n",
    "    try:\n",
    "        res = requests.get(url_formatted % ticker)\n",
    "    except:\n",
    "        EPS = \"N/A\"\n",
    "        continue\n",
    "    else:\n",
    "        res.raise_for_status()\n",
    "        epsSoup = bs4.BeautifulSoup(res.text,\"html5lib\")\n",
    "        \n",
    "        try:\n",
    "            #Find the closest link with id value and go to previous sibling for earnings data\n",
    "            closeLink = epsSoup.find('tr', id=\"ratio_Eps1YrAnnualGrowth\")\n",
    "            EPS = closeLink.find_previous_sibling(\"tr\")\n",
    "        except:\n",
    "            EPS = \"N/A\"\n",
    "            continue\n",
    "            \n",
    "        # Extract 2012-2016 EPS data and save to list EarnList 4 times for each quarter's earnings\n",
    "        Earnings = EPS.find_all('td')\n",
    "        EarnList=[]\n",
    "        for ele in Earnings:\n",
    "            if ele.get_text() in [' EPS (Basic)','']:\n",
    "                pass\n",
    "            else:\n",
    "                for i in range(4):\n",
    "                    EarnList.append(ele.get_text())\n",
    "        eEPS[ticker] = EarnList"
   ]
  }
 ],
 "metadata": {
  "kernelspec": {
   "display_name": "Python 3",
   "language": "python",
   "name": "python3"
  },
  "language_info": {
   "codemirror_mode": {
    "name": "ipython",
    "version": 3
   },
   "file_extension": ".py",
   "mimetype": "text/x-python",
   "name": "python",
   "nbconvert_exporter": "python",
   "pygments_lexer": "ipython3",
   "version": "3.6.1"
  }
 },
 "nbformat": 4,
 "nbformat_minor": 2
}
